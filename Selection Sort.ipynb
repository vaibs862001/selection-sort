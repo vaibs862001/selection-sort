
def selectionSort(ar):
    l = len(ar)
    
    for i in range(l-1):
        min = i
        for j in range(i+1, l-1):
            if ar[j] < ar[min]:
                min = j
        ar[i], ar[min] = ar[min], ar[i]
        
    for i in ar:
        print(i, end =' ')
    
    
    

n = int(input())
ar = [int(x) for x in input().split()[:n]]

selectionSort(ar)
7
13 5 2 7 44 9 2
2 5 7 9 13 44 2 